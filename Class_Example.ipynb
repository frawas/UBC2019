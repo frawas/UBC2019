{
 "cells": [
  {
   "cell_type": "markdown",
   "metadata": {},
   "source": [
    "## In-Class JuMP Excercise Option 1: Reservoir Problem"
   ]
  },
  {
   "cell_type": "markdown",
   "metadata": {},
   "source": [
    "We will try to solve a reservoir optimization Problem using the Julia language and the JuMP Package.\n",
    "The general problem description is as follows:\n",
    "One reservoir is being optimized for discharges for power generation and irrigation outflows over a period of 12 months. Inflows of each month are deterministically provided as well as parameters for the different constraints."
   ]
  },
  {
   "cell_type": "markdown",
   "metadata": {},
   "source": [
    "First, we will start by installing the appropriate packages for this excercise, this might take a bit of time but is only required to be done once on your machine."
   ]
  },
  {
   "cell_type": "code",
   "execution_count": null,
   "metadata": {},
   "outputs": [],
   "source": [
    "using Pkg \n",
    "Pkg.add(\"JuMP\")\n",
    "Pkg.add(\"Clp\") #the free solver\n",
    "Pkg.add(\"Plots\")"
   ]
  },
  {
   "cell_type": "markdown",
   "metadata": {},
   "source": [
    "Then, we will call those packages from our library to use them..."
   ]
  },
  {
   "cell_type": "code",
   "execution_count": null,
   "metadata": {},
   "outputs": [],
   "source": [
    "using JuMP, Clp, Plots"
   ]
  },
  {
   "cell_type": "code",
   "execution_count": null,
   "metadata": {},
   "outputs": [],
   "source": [
    "#Step 1: Input Data\n",
    "T=12\n",
    "inflows = [1200, 1300, 1500, 600, 550, 400, 300, 200, 500, 600, 700, 800]\n",
    "Irrg_Benefit = [100, 110, 120, 90, 50, 75, 50, 40, 80, 90, 100, 110]\n",
    "Power_Benefit = [50, 20, 30, 35, 40, 75, 65, 220, 150, 90, 80, 100]\n",
    "total_flow_max = [1000, 1000, 1100, 900, 900, 750, 650, 700, 800, 900, 1000, 1100]\n",
    "total_flow_min = [100, 100, 100, 200, 200, 200, 200, 300, 200, 200, 200, 100]\n",
    "irrg_flow_max = 800\n",
    "irrg_flow_min = 250\n",
    "power_flow_max = 750\n",
    "power_flow_min = 150\n",
    "storage_max = 2500\n",
    "storage_min = 250\n",
    "storage_initial = 1500\n",
    "water_power_rate = 1.1\n",
    "#data complete"
   ]
  },
  {
   "cell_type": "markdown",
   "metadata": {},
   "source": [
    "To declare my Model I give it a model Name (ResvLP) and a Solver (Clp)"
   ]
  },
  {
   "cell_type": "code",
   "execution_count": null,
   "metadata": {},
   "outputs": [],
   "source": [
    "#Declare Model\n",
    "ResvLP = Model(with_optimizer(Clp.Optimizer))"
   ]
  },
  {
   "cell_type": "markdown",
   "metadata": {},
   "source": [
    "Decision Variables:\n",
    "- Outflow for Irrigation\n",
    "- Outflow for power generation\n",
    "- Storage"
   ]
  },
  {
   "cell_type": "code",
   "execution_count": null,
   "metadata": {},
   "outputs": [],
   "source": [
    "#variables\n",
    "@variable(ResvLP, OutflowIrrg[1:T] >= 0) #irrigation outflow"
   ]
  },
  {
   "cell_type": "code",
   "execution_count": null,
   "metadata": {},
   "outputs": [],
   "source": [
    "#Use this space to declare the variables OutflowPower[1:T], Storage[1:T]\n",
    "\n"
   ]
  },
  {
   "cell_type": "markdown",
   "metadata": {},
   "source": [
    "Objective Function \n",
    "\n",
    "$$\\sum_{t=1}^{T} OutflowForIrrigation_t * Irrigation Benefit_t + OutflowPower_t * PowerBenefit_*Rate $$"
   ]
  },
  {
   "cell_type": "code",
   "execution_count": null,
   "metadata": {},
   "outputs": [],
   "source": [
    "#objective #OutflowIrrg[t]*Irrg_Benefit[t] + OutflowPower[t]*Power_Benefit[t]*Water_Power_Rate\n",
    "@objective(ResvLP, Max, sum(OutflowIrrg[t] * Irrg_Benefit[t] + OutflowPower[t] * Power_Benefit[t]*water_power_rate for t in 1:T))"
   ]
  },
  {
   "cell_type": "markdown",
   "metadata": {},
   "source": [
    "Constraints:\n",
    "\n",
    "- Initial Storage:\n",
    "\n",
    "$$ Storage_t >= StorageInitial $$"
   ]
  },
  {
   "cell_type": "code",
   "execution_count": null,
   "metadata": {},
   "outputs": [],
   "source": [
    "@constraint(ResvLP,Storage[T]>=storage_initial) #end storage"
   ]
  },
  {
   "cell_type": "markdown",
   "metadata": {},
   "source": [
    "Other Constraints:\n",
    "- Limits on Irrigation\n",
    "- Limits on Power transmission\n",
    "- Limits on Storage\n",
    "- Mass Balance"
   ]
  },
  {
   "cell_type": "code",
   "execution_count": null,
   "metadata": {},
   "outputs": [],
   "source": [
    "@constraint(ResvLP, IrrgLimit[t in 1:T], irrg_flow_max >= OutflowIrrg[t]>= irrg_flow_min)\n",
    "\n"
   ]
  },
  {
   "cell_type": "code",
   "execution_count": null,
   "metadata": {},
   "outputs": [],
   "source": [
    "#use this space to define the constraints for Limits on Power flow and Storage:\n",
    "\n"
   ]
  },
  {
   "cell_type": "markdown",
   "metadata": {},
   "source": [
    "Mass Balance Constraint:\n",
    "$$for \\\\ t \\in 1..T\\\\\n",
    "\\begin{cases}StorageInitial + inflows_t - OutflowIrrigation_t - OutflowPower_t = Storage_t, &\\mbox{if } \\mbox{t = 1}\\\\ Storage_{t-1} + inflows_t - OutflowIrrigation_t - OutflowPower_t = Storage_t, &\\mbox{if } \\mbox{t > 1}\\end{cases}$$\n",
    "\n",
    "Limits on Total Flow\n",
    "$$TotalFlowMinimum_t <= OutflowIrrigation_t + OutflowPower_t <= TotalFlowMax$$\n"
   ]
  },
  {
   "cell_type": "code",
   "execution_count": null,
   "metadata": {},
   "outputs": [],
   "source": [
    "#mass balance and Total flow\n",
    "for t=1:T\n",
    "    if t==1\n",
    "        @constraint(ResvLP, storage_initial + inflows[t]-OutflowIrrg[t]-OutflowPower[t] ==Storage[t]);\n",
    "    else\n",
    "        @constraint(ResvLP, Storage[t-1] + inflows[t]-OutflowIrrg[t]-OutflowPower[t] ==Storage[t]);\n",
    "    end\n",
    "    @constraint(ResvLP,total_flow_min[t]<=OutflowPower[t]+ OutflowIrrg[t]<=total_flow_max[t]);\n",
    "end"
   ]
  },
  {
   "cell_type": "markdown",
   "metadata": {},
   "source": [
    "Now that everything is defined, we can solve the problem..."
   ]
  },
  {
   "cell_type": "code",
   "execution_count": null,
   "metadata": {},
   "outputs": [],
   "source": [
    "#Solve\n",
    "JuMP.optimize!(ResvLP)"
   ]
  },
  {
   "cell_type": "code",
   "execution_count": null,
   "metadata": {},
   "outputs": [],
   "source": [
    "println(\"RESULTS:\n",
    "\")\n",
    "println(\"The total benefit is $(JuMP.objective_value(ResvLP)), The storage at stage\n",
    "\")\n",
    "\tfor t in 1:T\n",
    "\t\t\tprint(\"$(t) = $(JuMP.value(Storage[t])/t)\")\n",
    "\tend"
   ]
  },
  {
   "cell_type": "markdown",
   "metadata": {},
   "source": [
    "Make nice plots of your results...\n",
    "Note: The basic Plots package used here can be slow in the first plot, but there are other advanced plotting packages such as Gadfly"
   ]
  },
  {
   "cell_type": "code",
   "execution_count": null,
   "metadata": {},
   "outputs": [],
   "source": [
    "s= JuMP.value.(Storage)\n",
    "r= JuMP.value.(OutflowIrrg)\n",
    "Storage_plot= plot(1:12, s, xlabel= \"period\", ylabel= \"m3\", title=\"Variables\", label=[\"Storage Level\" \"\"])"
   ]
  },
  {
   "cell_type": "code",
   "execution_count": null,
   "metadata": {},
   "outputs": [],
   "source": [
    "#With_Irrigation\n",
    "plot!(1:12, r, label=[\"Irrigation\"]) # ! adds to the existing plot"
   ]
  },
  {
   "cell_type": "markdown",
   "metadata": {},
   "source": [
    "Other Ways to Contain your Data:"
   ]
  },
  {
   "cell_type": "code",
   "execution_count": null,
   "metadata": {},
   "outputs": [],
   "source": [
    "reservoirs=[\"RES1\", \"RES2\"] #set of reservoirs\n",
    "numresv =length(reservoirs)\n",
    "T=[1,2,3,4,5,6,7,8,9,10,11,12] #12 element array from 1 to 12 representing stages\n",
    "#inflows( reservoir, T)\n",
    "inflows = JuMP.Containers.DenseAxisArray([\n",
    "1200 1300 1500 600 550 400 300 200 500 600 700 850;\n",
    "1300 1400 1400 650 590 440 320 230 400 500 750 800\n",
    "], reservoirs, T\n",
    ")"
   ]
  },
  {
   "cell_type": "code",
   "execution_count": null,
   "metadata": {},
   "outputs": [],
   "source": [
    "inflows[\"RES2\",12]"
   ]
  },
  {
   "cell_type": "markdown",
   "metadata": {},
   "source": [
    "Farah Rawas"
   ]
  }
 ],
 "metadata": {
  "kernelspec": {
   "display_name": "Julia 1.1.0",
   "language": "julia",
   "name": "julia-1.1"
  },
  "language_info": {
   "file_extension": ".jl",
   "mimetype": "application/julia",
   "name": "julia",
   "version": "1.1.0"
  }
 },
 "nbformat": 4,
 "nbformat_minor": 2
}
