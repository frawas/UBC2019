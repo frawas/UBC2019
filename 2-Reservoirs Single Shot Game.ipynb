{
 "cells": [
  {
   "cell_type": "markdown",
   "metadata": {},
   "source": [
    "# Reservoir Normal Form Game Instance (aka single-shot) - Farah Rawas"
   ]
  },
  {
   "cell_type": "markdown",
   "metadata": {},
   "source": [
    "Step 0- Import necessary Packages\n",
    "Note: Some packages might not load due to firewall etc..."
   ]
  },
  {
   "cell_type": "code",
   "execution_count": 8,
   "metadata": {
    "hide_input": false
   },
   "outputs": [],
   "source": [
    "using Pkg\n",
    "Pkg.add(\"https://github.com/QuantEcon/Games.jl.git\")#"
   ]
  },
  {
   "cell_type": "code",
   "execution_count": 9,
   "metadata": {},
   "outputs": [],
   "source": [
    "using Games"
   ]
  },
  {
   "cell_type": "markdown",
   "metadata": {
    "hide_input": false
   },
   "source": [
    "Step 1- Define and set the values for the different variables and define the payoff function\n",
    "\n",
    "In this game the payoffs look like the following:\n",
    "\n",
    "$$payoff(A)= \\begin{cases}(Sales*(MarketPrice), &\\mbox{if } \\mbox{D_A+D_B==demand}\\\\(Market_Price)*(D_A-demand), &\\mbox{if } \\mbox{D_A+ D_B<demand}\\\\Sales*(MarketPrice)-(D_A-demand)*penalty, &\\mbox{if } \\mbox{D_A+D_B>demand} \\end{cases}$$\n",
    "\n"
   ]
  },
  {
   "cell_type": "code",
   "execution_count": 1,
   "metadata": {},
   "outputs": [
    {
     "data": {
      "text/plain": [
       "calculate_payoff (generic function with 1 method)"
      ]
     },
     "execution_count": 1,
     "metadata": {},
     "output_type": "execute_result"
    }
   ],
   "source": [
    "\n",
    "#demand\n",
    "d= 1000\n",
    "ρ = 0.3 # ()$/cms)\n",
    "σ = 0.5 #spot market price\n",
    "n= 2 #number of players\n",
    "N = [\"A\", \"B\"]\n",
    "Opt_A = 780 #aribtrary, should a be an array of optimal releases for each storage state for each scenario\n",
    "Opt_B = 880\n",
    "D_A = [0:10:Opt_A;]\n",
    "D_B = [0:10:Opt_B;]\n",
    "#S_A = [d-D_A]\n",
    "#S_B = [d- D_B]\n",
    "\n",
    "#payoffs\n",
    "\n",
    "function calculate_payoff(x,y,z)\n",
    "    if x + y == d\n",
    "        return σ*x\n",
    "    elseif x+y < d\n",
    "        return σ*(z-x-d)\n",
    "    elseif x+y > d\n",
    "        return σ*x - ρ*(z-x-d)\n",
    "    end\n",
    "end"
   ]
  },
  {
   "cell_type": "markdown",
   "metadata": {},
   "source": [
    "Step 2- Build the payoff matrix for each player"
   ]
  },
  {
   "cell_type": "code",
   "execution_count": 2,
   "metadata": {},
   "outputs": [
    {
     "data": {
      "text/plain": [
       "79×89 Array{Float64,2}:\n",
       " -110.0  -110.0  -110.0  -110.0  -110.0  …  -110.0  -110.0  -110.0  -110.0\n",
       " -115.0  -115.0  -115.0  -115.0  -115.0     -115.0  -115.0  -115.0  -115.0\n",
       " -120.0  -120.0  -120.0  -120.0  -120.0     -120.0  -120.0  -120.0  -120.0\n",
       " -125.0  -125.0  -125.0  -125.0  -125.0     -125.0  -125.0  -125.0  -125.0\n",
       " -130.0  -130.0  -130.0  -130.0  -130.0     -130.0  -130.0  -130.0  -130.0\n",
       " -135.0  -135.0  -135.0  -135.0  -135.0  …  -135.0  -135.0  -135.0  -135.0\n",
       " -140.0  -140.0  -140.0  -140.0  -140.0     -140.0  -140.0  -140.0  -140.0\n",
       " -145.0  -145.0  -145.0  -145.0  -145.0     -145.0  -145.0  -145.0  -145.0\n",
       " -150.0  -150.0  -150.0  -150.0  -150.0     -150.0  -150.0  -150.0  -150.0\n",
       " -155.0  -155.0  -155.0  -155.0  -155.0     -155.0  -155.0  -155.0  -155.0\n",
       " -160.0  -160.0  -160.0  -160.0  -160.0  …  -160.0  -160.0  -160.0  -160.0\n",
       " -165.0  -165.0  -165.0  -165.0  -165.0     -165.0  -165.0  -165.0  -165.0\n",
       " -170.0  -170.0  -170.0  -170.0  -170.0     -170.0  -170.0  -170.0    60.0\n",
       "    ⋮                                    ⋱     ⋮                          \n",
       " -445.0  -445.0  -445.0  -445.0  -445.0      602.0   602.0   602.0   602.0\n",
       " -450.0  -450.0  -450.0  -450.0  -450.0      610.0   610.0   610.0   610.0\n",
       " -455.0  -455.0  -455.0  -455.0  -455.0      618.0   618.0   618.0   618.0\n",
       " -460.0  -460.0  -460.0  -460.0  -460.0  …   626.0   626.0   626.0   626.0\n",
       " -465.0  -465.0  -465.0  -465.0  -465.0      634.0   634.0   634.0   634.0\n",
       " -470.0  -470.0  -470.0  -470.0  -470.0      642.0   642.0   642.0   642.0\n",
       " -475.0  -475.0  -475.0  -475.0  -475.0      650.0   650.0   650.0   650.0\n",
       " -480.0  -480.0  -480.0  -480.0  -480.0      658.0   658.0   658.0   658.0\n",
       " -485.0  -485.0  -485.0  -485.0  -485.0  …   666.0   666.0   666.0   666.0\n",
       " -490.0  -490.0  -490.0  -490.0  -490.0      674.0   674.0   674.0   674.0\n",
       " -495.0  -495.0  -495.0  -495.0  -495.0      682.0   682.0   682.0   682.0\n",
       " -500.0  -500.0  -500.0  -500.0  -500.0      690.0   690.0   690.0   690.0"
      ]
     },
     "execution_count": 2,
     "metadata": {},
     "output_type": "execute_result"
    }
   ],
   "source": [
    "Payoff_A = [ calculate_payoff(D_A[i], D_B[j], Opt_A) for i in 1:length(D_A), j in 1:length(D_B) ]"
   ]
  },
  {
   "cell_type": "code",
   "execution_count": 10,
   "metadata": {},
   "outputs": [
    {
     "data": {
      "text/plain": [
       "89×79 Array{Float64,2}:\n",
       "  -60.0   -60.0   -60.0   -60.0   -60.0  …   -60.0   -60.0   -60.0   -60.0\n",
       "  -65.0   -65.0   -65.0   -65.0   -65.0      -65.0   -65.0   -65.0   -65.0\n",
       "  -70.0   -70.0   -70.0   -70.0   -70.0      -70.0   -70.0   -70.0   -70.0\n",
       "  -75.0   -75.0   -75.0   -75.0   -75.0      -75.0   -75.0   -75.0   -75.0\n",
       "  -80.0   -80.0   -80.0   -80.0   -80.0      -80.0   -80.0   -80.0   -80.0\n",
       "  -85.0   -85.0   -85.0   -85.0   -85.0  …   -85.0   -85.0   -85.0   -85.0\n",
       "  -90.0   -90.0   -90.0   -90.0   -90.0      -90.0   -90.0   -90.0   -90.0\n",
       "  -95.0   -95.0   -95.0   -95.0   -95.0      -95.0   -95.0   -95.0   -95.0\n",
       " -100.0  -100.0  -100.0  -100.0  -100.0     -100.0  -100.0  -100.0  -100.0\n",
       " -105.0  -105.0  -105.0  -105.0  -105.0     -105.0  -105.0  -105.0  -105.0\n",
       " -110.0  -110.0  -110.0  -110.0  -110.0  …  -110.0  -110.0  -110.0  -110.0\n",
       " -115.0  -115.0  -115.0  -115.0  -115.0     -115.0  -115.0  -115.0  -115.0\n",
       " -120.0  -120.0  -120.0  -120.0  -120.0     -120.0  -120.0  -120.0  -120.0\n",
       "    ⋮                                    ⋱     ⋮                          \n",
       " -445.0  -445.0  -445.0  -445.0  -445.0      652.0   652.0   652.0   652.0\n",
       " -450.0  -450.0  -450.0  -450.0  -450.0      660.0   660.0   660.0   660.0\n",
       " -455.0  -455.0  -455.0  -455.0  -455.0      668.0   668.0   668.0   668.0\n",
       " -460.0  -460.0  -460.0  -460.0  -460.0  …   676.0   676.0   676.0   676.0\n",
       " -465.0  -465.0  -465.0  -465.0  -465.0      684.0   684.0   684.0   684.0\n",
       " -470.0  -470.0  -470.0  -470.0  -470.0      692.0   692.0   692.0   692.0\n",
       " -475.0  -475.0  -475.0  -475.0  -475.0      700.0   700.0   700.0   700.0\n",
       " -480.0  -480.0  -480.0  -480.0  -480.0      708.0   708.0   708.0   708.0\n",
       " -485.0  -485.0  -485.0  -485.0  -485.0  …   716.0   716.0   716.0   716.0\n",
       " -490.0  -490.0  -490.0  -490.0  -490.0      724.0   724.0   724.0   724.0\n",
       " -495.0  -495.0  -495.0  -495.0  -495.0      732.0   732.0   732.0   732.0\n",
       " -500.0  -500.0  -500.0  -500.0  -500.0      740.0   740.0   740.0   740.0"
      ]
     },
     "execution_count": 10,
     "metadata": {},
     "output_type": "execute_result"
    }
   ],
   "source": [
    "Payoff_B = [ calculate_payoff(D_B[i], D_A[j], Opt_B) for i in 1:length(D_B), j in 1:length(D_A) ]\n",
    "Player_A, Player_B = Player(Payoff_A), Player(Payoff_B)\n",
    "Res_game= NormalFormGame(Player_A, Player_B)"
   ]
  },
  {
   "cell_type": "markdown",
   "metadata": {},
   "source": [
    "Define the Normal Form Game through your player's payoff functions\n",
    "Important: pure_nash function give you a tuple of the equilibrium points locations (i.e. use to find out the actions and payoff they refer to)"
   ]
  },
  {
   "cell_type": "code",
   "execution_count": 11,
   "metadata": {},
   "outputs": [
    {
     "data": {
      "text/plain": [
       "79×89 Array{Tuple{Float64,Float64},2}:\n",
       " (-110.0, -60.0)  (-110.0, -65.0)  …  (-110.0, -495.0)  (-110.0, -500.0)\n",
       " (-115.0, -60.0)  (-115.0, -65.0)     (-115.0, -495.0)  (-115.0, -500.0)\n",
       " (-120.0, -60.0)  (-120.0, -65.0)     (-120.0, -495.0)  (-120.0, -500.0)\n",
       " (-125.0, -60.0)  (-125.0, -65.0)     (-125.0, -495.0)  (-125.0, -500.0)\n",
       " (-130.0, -60.0)  (-130.0, -65.0)     (-130.0, -495.0)  (-130.0, -500.0)\n",
       " (-135.0, -60.0)  (-135.0, -65.0)  …  (-135.0, -495.0)  (-135.0, -500.0)\n",
       " (-140.0, -60.0)  (-140.0, -65.0)     (-140.0, -495.0)  (-140.0, -500.0)\n",
       " (-145.0, -60.0)  (-145.0, -65.0)     (-145.0, -495.0)  (-145.0, -500.0)\n",
       " (-150.0, -60.0)  (-150.0, -65.0)     (-150.0, -495.0)  (-150.0, -500.0)\n",
       " (-155.0, -60.0)  (-155.0, -65.0)     (-155.0, -495.0)  (-155.0, -500.0)\n",
       " (-160.0, -60.0)  (-160.0, -65.0)  …  (-160.0, -495.0)  (-160.0, -500.0)\n",
       " (-165.0, -60.0)  (-165.0, -65.0)     (-165.0, -495.0)  (-165.0, -500.0)\n",
       " (-170.0, -60.0)  (-170.0, -65.0)     (-170.0, -495.0)  (60.0, 440.0)   \n",
       " ⋮                                 ⋱                                    \n",
       " (-445.0, -60.0)  (-445.0, -65.0)     (602.0, 732.0)    (602.0, 740.0)  \n",
       " (-450.0, -60.0)  (-450.0, -65.0)     (610.0, 732.0)    (610.0, 740.0)  \n",
       " (-455.0, -60.0)  (-455.0, -65.0)     (618.0, 732.0)    (618.0, 740.0)  \n",
       " (-460.0, -60.0)  (-460.0, -65.0)  …  (626.0, 732.0)    (626.0, 740.0)  \n",
       " (-465.0, -60.0)  (-465.0, -65.0)     (634.0, 732.0)    (634.0, 740.0)  \n",
       " (-470.0, -60.0)  (-470.0, -65.0)     (642.0, 732.0)    (642.0, 740.0)  \n",
       " (-475.0, -60.0)  (-475.0, -65.0)     (650.0, 732.0)    (650.0, 740.0)  \n",
       " (-480.0, -60.0)  (-480.0, -65.0)     (658.0, 732.0)    (658.0, 740.0)  \n",
       " (-485.0, -60.0)  (-485.0, -65.0)  …  (666.0, 732.0)    (666.0, 740.0)  \n",
       " (-490.0, -60.0)  (-490.0, -65.0)     (674.0, 732.0)    (674.0, 740.0)  \n",
       " (-495.0, -60.0)  (-495.0, -65.0)     (682.0, 732.0)    (682.0, 740.0)  \n",
       " (-500.0, -60.0)  (-500.0, -65.0)     (690.0, 732.0)    (690.0, 740.0)  "
      ]
     },
     "execution_count": 11,
     "metadata": {},
     "output_type": "execute_result"
    }
   ],
   "source": [
    "#Game payoff pairs just for the sake of it\n",
    "SuperMatrix=[(Payoff_A[i,j],Payoff_B[j,i]) for i in 1:length(D_A), j in 1:length(D_B)]"
   ]
  },
  {
   "cell_type": "markdown",
   "metadata": {},
   "source": [
    "How does the game action-pair payoff matrix look like?"
   ]
  },
  {
   "cell_type": "code",
   "execution_count": 5,
   "metadata": {},
   "outputs": [],
   "source": [
    "#Finding a set of Nash Equilibrium values\n",
    "nash_array=pure_nash(Res_game; ntofind=20, tol=1e-"
   ]
  },
  {
   "cell_type": "markdown",
   "metadata": {},
   "source": [
    "2-element Array{Tuple{Int64,Int64},1}:\n",
    " (1, 1)  \n",
    " (79, 89)"
   ]
  },
  {
   "cell_type": "code",
   "execution_count": 15,
   "metadata": {},
   "outputs": [
    {
     "data": {
      "text/plain": [
       "(690.0, 740.0)"
      ]
     },
     "execution_count": 15,
     "metadata": {},
     "output_type": "execute_result"
    }
   ],
   "source": [
    "#pick a random pure nash\n",
    "rand(nash_array)\n",
    "#the payoff of this\n",
    "SuperMatrix[79,89] #automate"
   ]
  },
  {
   "cell_type": "code",
   "execution_count": 16,
   "metadata": {},
   "outputs": [
    {
     "data": {
      "text/plain": [
       "780"
      ]
     },
     "execution_count": 16,
     "metadata": {},
     "output_type": "execute_result"
    }
   ],
   "source": [
    "#what action this refers to?\n",
    "#Simply, it's the 79th for A\n",
    "D_A[79]"
   ]
  },
  {
   "cell_type": "markdown",
   "metadata": {},
   "source": [
    "Another way of generating policies is looking at the best response for 1 player while fixing the other player's action\n",
    "Below, we plot the best response for player A as a function of the actions of player B."
   ]
  },
  {
   "cell_type": "code",
   "execution_count": 17,
   "metadata": {},
   "outputs": [
    {
     "data": {
      "image/svg+xml": [
       "<?xml version=\"1.0\" encoding=\"utf-8\"?>\n",
       "<svg xmlns=\"http://www.w3.org/2000/svg\" xmlns:xlink=\"http://www.w3.org/1999/xlink\" width=\"600\" height=\"400\" viewBox=\"0 0 2400 1600\">\n",
       "<defs>\n",
       "  <clipPath id=\"clip7900\">\n",
       "    <rect x=\"0\" y=\"0\" width=\"2000\" height=\"2000\"/>\n",
       "  </clipPath>\n",
       "</defs>\n",
       "<defs>\n",
       "  <clipPath id=\"clip7901\">\n",
       "    <rect x=\"0\" y=\"0\" width=\"2400\" height=\"1600\"/>\n",
       "  </clipPath>\n",
       "</defs>\n",
       "<polygon clip-path=\"url(#clip7901)\" points=\"\n",
       "0,1600 2400,1600 2400,0 0,0 \n",
       "  \" fill=\"#ffffff\" fill-rule=\"evenodd\" fill-opacity=\"1\"/>\n",
       "<defs>\n",
       "  <clipPath id=\"clip7902\">\n",
       "    <rect x=\"480\" y=\"0\" width=\"1681\" height=\"1600\"/>\n",
       "  </clipPath>\n",
       "</defs>\n",
       "<polygon clip-path=\"url(#clip7901)\" points=\"\n",
       "211.005,1440.48 2321.26,1440.48 2321.26,47.2441 211.005,47.2441 \n",
       "  \" fill=\"#ffffff\" fill-rule=\"evenodd\" fill-opacity=\"1\"/>\n",
       "<defs>\n",
       "  <clipPath id=\"clip7903\">\n",
       "    <rect x=\"211\" y=\"47\" width=\"2111\" height=\"1394\"/>\n",
       "  </clipPath>\n",
       "</defs>\n",
       "<polyline clip-path=\"url(#clip7903)\" style=\"stroke:#000000; stroke-width:2; stroke-opacity:0.1; fill:none\" points=\"\n",
       "  248.106,1440.48 248.106,47.2441 \n",
       "  \"/>\n",
       "<polyline clip-path=\"url(#clip7903)\" style=\"stroke:#000000; stroke-width:2; stroke-opacity:0.1; fill:none\" points=\"\n",
       "  700.562,1440.48 700.562,47.2441 \n",
       "  \"/>\n",
       "<polyline clip-path=\"url(#clip7903)\" style=\"stroke:#000000; stroke-width:2; stroke-opacity:0.1; fill:none\" points=\"\n",
       "  1153.02,1440.48 1153.02,47.2441 \n",
       "  \"/>\n",
       "<polyline clip-path=\"url(#clip7903)\" style=\"stroke:#000000; stroke-width:2; stroke-opacity:0.1; fill:none\" points=\"\n",
       "  1605.47,1440.48 1605.47,47.2441 \n",
       "  \"/>\n",
       "<polyline clip-path=\"url(#clip7903)\" style=\"stroke:#000000; stroke-width:2; stroke-opacity:0.1; fill:none\" points=\"\n",
       "  2057.93,1440.48 2057.93,47.2441 \n",
       "  \"/>\n",
       "<polyline clip-path=\"url(#clip7903)\" style=\"stroke:#000000; stroke-width:2; stroke-opacity:0.1; fill:none\" points=\"\n",
       "  211.005,1417.9 2321.26,1417.9 \n",
       "  \"/>\n",
       "<polyline clip-path=\"url(#clip7903)\" style=\"stroke:#000000; stroke-width:2; stroke-opacity:0.1; fill:none\" points=\"\n",
       "  211.005,1080.88 2321.26,1080.88 \n",
       "  \"/>\n",
       "<polyline clip-path=\"url(#clip7903)\" style=\"stroke:#000000; stroke-width:2; stroke-opacity:0.1; fill:none\" points=\"\n",
       "  211.005,743.863 2321.26,743.863 \n",
       "  \"/>\n",
       "<polyline clip-path=\"url(#clip7903)\" style=\"stroke:#000000; stroke-width:2; stroke-opacity:0.1; fill:none\" points=\"\n",
       "  211.005,406.844 2321.26,406.844 \n",
       "  \"/>\n",
       "<polyline clip-path=\"url(#clip7903)\" style=\"stroke:#000000; stroke-width:2; stroke-opacity:0.1; fill:none\" points=\"\n",
       "  211.005,69.8244 2321.26,69.8244 \n",
       "  \"/>\n",
       "<polyline clip-path=\"url(#clip7901)\" style=\"stroke:#000000; stroke-width:4; stroke-opacity:1; fill:none\" points=\"\n",
       "  211.005,1440.48 2321.26,1440.48 \n",
       "  \"/>\n",
       "<polyline clip-path=\"url(#clip7901)\" style=\"stroke:#000000; stroke-width:4; stroke-opacity:1; fill:none\" points=\"\n",
       "  211.005,1440.48 211.005,47.2441 \n",
       "  \"/>\n",
       "<polyline clip-path=\"url(#clip7901)\" style=\"stroke:#000000; stroke-width:4; stroke-opacity:1; fill:none\" points=\"\n",
       "  248.106,1440.48 248.106,1419.58 \n",
       "  \"/>\n",
       "<polyline clip-path=\"url(#clip7901)\" style=\"stroke:#000000; stroke-width:4; stroke-opacity:1; fill:none\" points=\"\n",
       "  700.562,1440.48 700.562,1419.58 \n",
       "  \"/>\n",
       "<polyline clip-path=\"url(#clip7901)\" style=\"stroke:#000000; stroke-width:4; stroke-opacity:1; fill:none\" points=\"\n",
       "  1153.02,1440.48 1153.02,1419.58 \n",
       "  \"/>\n",
       "<polyline clip-path=\"url(#clip7901)\" style=\"stroke:#000000; stroke-width:4; stroke-opacity:1; fill:none\" points=\"\n",
       "  1605.47,1440.48 1605.47,1419.58 \n",
       "  \"/>\n",
       "<polyline clip-path=\"url(#clip7901)\" style=\"stroke:#000000; stroke-width:4; stroke-opacity:1; fill:none\" points=\"\n",
       "  2057.93,1440.48 2057.93,1419.58 \n",
       "  \"/>\n",
       "<polyline clip-path=\"url(#clip7901)\" style=\"stroke:#000000; stroke-width:4; stroke-opacity:1; fill:none\" points=\"\n",
       "  211.005,1417.9 242.659,1417.9 \n",
       "  \"/>\n",
       "<polyline clip-path=\"url(#clip7901)\" style=\"stroke:#000000; stroke-width:4; stroke-opacity:1; fill:none\" points=\"\n",
       "  211.005,1080.88 242.659,1080.88 \n",
       "  \"/>\n",
       "<polyline clip-path=\"url(#clip7901)\" style=\"stroke:#000000; stroke-width:4; stroke-opacity:1; fill:none\" points=\"\n",
       "  211.005,743.863 242.659,743.863 \n",
       "  \"/>\n",
       "<polyline clip-path=\"url(#clip7901)\" style=\"stroke:#000000; stroke-width:4; stroke-opacity:1; fill:none\" points=\"\n",
       "  211.005,406.844 242.659,406.844 \n",
       "  \"/>\n",
       "<polyline clip-path=\"url(#clip7901)\" style=\"stroke:#000000; stroke-width:4; stroke-opacity:1; fill:none\" points=\"\n",
       "  211.005,69.8244 242.659,69.8244 \n",
       "  \"/>\n",
       "<g clip-path=\"url(#clip7901)\">\n",
       "<text style=\"fill:#000000; fill-opacity:1; font-family:Arial,Helvetica Neue,Helvetica,sans-serif; font-size:48px; text-anchor:middle;\" transform=\"rotate(0, 248.106, 1494.48)\" x=\"248.106\" y=\"1494.48\">0</text>\n",
       "</g>\n",
       "<g clip-path=\"url(#clip7901)\">\n",
       "<text style=\"fill:#000000; fill-opacity:1; font-family:Arial,Helvetica Neue,Helvetica,sans-serif; font-size:48px; text-anchor:middle;\" transform=\"rotate(0, 700.562, 1494.48)\" x=\"700.562\" y=\"1494.48\">20</text>\n",
       "</g>\n",
       "<g clip-path=\"url(#clip7901)\">\n",
       "<text style=\"fill:#000000; fill-opacity:1; font-family:Arial,Helvetica Neue,Helvetica,sans-serif; font-size:48px; text-anchor:middle;\" transform=\"rotate(0, 1153.02, 1494.48)\" x=\"1153.02\" y=\"1494.48\">40</text>\n",
       "</g>\n",
       "<g clip-path=\"url(#clip7901)\">\n",
       "<text style=\"fill:#000000; fill-opacity:1; font-family:Arial,Helvetica Neue,Helvetica,sans-serif; font-size:48px; text-anchor:middle;\" transform=\"rotate(0, 1605.47, 1494.48)\" x=\"1605.47\" y=\"1494.48\">60</text>\n",
       "</g>\n",
       "<g clip-path=\"url(#clip7901)\">\n",
       "<text style=\"fill:#000000; fill-opacity:1; font-family:Arial,Helvetica Neue,Helvetica,sans-serif; font-size:48px; text-anchor:middle;\" transform=\"rotate(0, 2057.93, 1494.48)\" x=\"2057.93\" y=\"1494.48\">80</text>\n",
       "</g>\n",
       "<g clip-path=\"url(#clip7901)\">\n",
       "<text style=\"fill:#000000; fill-opacity:1; font-family:Arial,Helvetica Neue,Helvetica,sans-serif; font-size:48px; text-anchor:end;\" transform=\"rotate(0, 187.005, 1435.4)\" x=\"187.005\" y=\"1435.4\">0</text>\n",
       "</g>\n",
       "<g clip-path=\"url(#clip7901)\">\n",
       "<text style=\"fill:#000000; fill-opacity:1; font-family:Arial,Helvetica Neue,Helvetica,sans-serif; font-size:48px; text-anchor:end;\" transform=\"rotate(0, 187.005, 1098.38)\" x=\"187.005\" y=\"1098.38\">20</text>\n",
       "</g>\n",
       "<g clip-path=\"url(#clip7901)\">\n",
       "<text style=\"fill:#000000; fill-opacity:1; font-family:Arial,Helvetica Neue,Helvetica,sans-serif; font-size:48px; text-anchor:end;\" transform=\"rotate(0, 187.005, 761.363)\" x=\"187.005\" y=\"761.363\">40</text>\n",
       "</g>\n",
       "<g clip-path=\"url(#clip7901)\">\n",
       "<text style=\"fill:#000000; fill-opacity:1; font-family:Arial,Helvetica Neue,Helvetica,sans-serif; font-size:48px; text-anchor:end;\" transform=\"rotate(0, 187.005, 424.344)\" x=\"187.005\" y=\"424.344\">60</text>\n",
       "</g>\n",
       "<g clip-path=\"url(#clip7901)\">\n",
       "<text style=\"fill:#000000; fill-opacity:1; font-family:Arial,Helvetica Neue,Helvetica,sans-serif; font-size:48px; text-anchor:end;\" transform=\"rotate(0, 187.005, 87.3244)\" x=\"187.005\" y=\"87.3244\">80</text>\n",
       "</g>\n",
       "<g clip-path=\"url(#clip7901)\">\n",
       "<text style=\"fill:#000000; fill-opacity:1; font-family:Arial,Helvetica Neue,Helvetica,sans-serif; font-size:66px; text-anchor:middle;\" transform=\"rotate(0, 1266.13, 1590.4)\" x=\"1266.13\" y=\"1590.4\">Action of B</text>\n",
       "</g>\n",
       "<g clip-path=\"url(#clip7901)\">\n",
       "<text style=\"fill:#000000; fill-opacity:1; font-family:Arial,Helvetica Neue,Helvetica,sans-serif; font-size:66px; text-anchor:middle;\" transform=\"rotate(-90, 57.6, 743.863)\" x=\"57.6\" y=\"743.863\">Best Reponse of A</text>\n",
       "</g>\n",
       "<polyline clip-path=\"url(#clip7903)\" style=\"stroke:#009af9; stroke-width:4; stroke-opacity:1; fill:none\" points=\"\n",
       "  270.729,1401.05 293.352,1401.05 315.975,1401.05 338.598,1401.05 361.22,1401.05 383.843,1401.05 406.466,1401.05 429.089,1401.05 451.712,1401.05 474.334,1401.05 \n",
       "  496.957,1401.05 519.58,1401.05 542.203,1401.05 564.826,1401.05 587.448,1401.05 610.071,1401.05 632.694,1401.05 655.317,1401.05 677.94,1401.05 700.562,1401.05 \n",
       "  723.185,1401.05 745.808,1401.05 768.431,86.6754 791.054,86.6754 813.676,86.6754 836.299,86.6754 858.922,86.6754 881.545,86.6754 904.168,86.6754 926.79,86.6754 \n",
       "  949.413,86.6754 972.036,86.6754 994.659,86.6754 1017.28,86.6754 1039.9,86.6754 1062.53,86.6754 1085.15,86.6754 1107.77,86.6754 1130.4,86.6754 1153.02,86.6754 \n",
       "  1175.64,86.6754 1198.26,86.6754 1220.89,86.6754 1243.51,86.6754 1266.13,86.6754 1288.76,86.6754 1311.38,86.6754 1334,86.6754 1356.62,86.6754 1379.25,86.6754 \n",
       "  1401.87,86.6754 1424.49,86.6754 1447.11,86.6754 1469.74,86.6754 1492.36,86.6754 1514.98,86.6754 1537.61,86.6754 1560.23,86.6754 1582.85,86.6754 1605.47,86.6754 \n",
       "  1628.1,86.6754 1650.72,86.6754 1673.34,86.6754 1695.97,86.6754 1718.59,86.6754 1741.21,86.6754 1763.83,86.6754 1786.46,86.6754 1809.08,86.6754 1831.7,86.6754 \n",
       "  1854.33,86.6754 1876.95,86.6754 1899.57,86.6754 1922.19,86.6754 1944.82,86.6754 1967.44,86.6754 1990.06,86.6754 2012.68,86.6754 2035.31,86.6754 2057.93,86.6754 \n",
       "  2080.55,86.6754 2103.18,86.6754 2125.8,86.6754 2148.42,86.6754 2171.04,86.6754 2193.67,86.6754 2216.29,86.6754 2238.91,86.6754 2261.54,86.6754 \n",
       "  \"/>\n",
       "<polygon clip-path=\"url(#clip7901)\" points=\"\n",
       "1958.43,251.724 2249.26,251.724 2249.26,130.764 1958.43,130.764 \n",
       "  \" fill=\"#ffffff\" fill-rule=\"evenodd\" fill-opacity=\"1\"/>\n",
       "<polyline clip-path=\"url(#clip7901)\" style=\"stroke:#000000; stroke-width:4; stroke-opacity:1; fill:none\" points=\"\n",
       "  1958.43,251.724 2249.26,251.724 2249.26,130.764 1958.43,130.764 1958.43,251.724 \n",
       "  \"/>\n",
       "<polyline clip-path=\"url(#clip7901)\" style=\"stroke:#009af9; stroke-width:4; stroke-opacity:1; fill:none\" points=\"\n",
       "  1982.43,191.244 2126.43,191.244 \n",
       "  \"/>\n",
       "<g clip-path=\"url(#clip7901)\">\n",
       "<text style=\"fill:#000000; fill-opacity:1; font-family:Arial,Helvetica Neue,Helvetica,sans-serif; font-size:48px; text-anchor:start;\" transform=\"rotate(0, 2150.43, 208.744)\" x=\"2150.43\" y=\"208.744\">y1</text>\n",
       "</g>\n",
       "</svg>\n"
      ]
     },
     "execution_count": 17,
     "metadata": {},
     "output_type": "execute_result"
    }
   ],
   "source": [
    "BR_A=[best_response(Res_game.players[1],i) for i in 1:length(D_B)]\n",
    "using Plots\n",
    "plot(BR_A, ylabel=\"Best Reponse of A\", xlabel=\"Action of B\")"
   ]
  },
  {
   "cell_type": "code",
   "execution_count": null,
   "metadata": {},
   "outputs": [],
   "source": []
  }
 ],
 "metadata": {
  "kernelspec": {
   "display_name": "Julia 1.0.3",
   "language": "julia",
   "name": "julia-1.0"
  },
  "language_info": {
   "file_extension": ".jl",
   "mimetype": "application/julia",
   "name": "julia",
   "version": "1.0.3"
  }
 },
 "nbformat": 4,
 "nbformat_minor": 2
}
